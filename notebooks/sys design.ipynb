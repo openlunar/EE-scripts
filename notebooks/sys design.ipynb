{
 "cells": [
  {
   "cell_type": "markdown",
   "metadata": {},
   "source": [
    "# Power System Design\n",
    "\n",
    "With some input requirements and capabilities, we should be able to design at least in broad strokes the power system for a spacecraft.\n",
    "\n",
    "For now, all of the sizing, requirements, and component selection is notional. As the actual design progresses, we should expect that numbers and specs trend toward representing truth."
   ]
  },
  {
   "cell_type": "code",
   "execution_count": 1,
   "metadata": {},
   "outputs": [],
   "source": [
    "%matplotlib inline\n",
    "from matplotlib import pyplot as plt\n",
    "plt.rcParams['figure.figsize'] = (13, 10)\n",
    "import math\n",
    "from pprint import pprint\n",
    "import json\n",
    "with open('ztj.json') as f:\n",
    "    #  loading from the solar cell work, a model of Solaero's\n",
    "    # 0.5x 4\" wafer ZTJ cell.\n",
    "    # TODO this will be something easily integrated someday\n",
    "    pv = json.load(f)\n",
    "\n",
    "def current_at(v, cell_iv):\n",
    "    voltages = cell_iv['vout']\n",
    "    currents = cell_iv['aout']\n",
    "    i, j = 0, len(voltages) - 1\n",
    "    # We're not doing dumb extrapolation\n",
    "    if v < voltages[0]:\n",
    "        return currents[0]\n",
    "    if v > voltages[-1]:\n",
    "        return 0\n",
    "    while j - 1 > i:\n",
    "        mid = (i + j) // 2\n",
    "        if voltages[mid] > v:\n",
    "            j = mid\n",
    "        else:\n",
    "            i = mid\n",
    "    # v is in the range (i,j)\n",
    "    frac = (v - voltages[i]) / (voltages[j] - voltages[i])\n",
    "    return currents[i] + frac * (currents[j] - currents[i])"
   ]
  },
  {
   "cell_type": "code",
   "execution_count": 2,
   "metadata": {},
   "outputs": [],
   "source": [
    "class Batt:\n",
    "    def __init__(self, capacity, # [Ah] nominal capacity\n",
    "                 rint, # [Ohm] internal resistance\n",
    "                 vfull, # [V] terminal voltage at rest at 100% SOC\n",
    "                 dVint, # [V/Ah] slope of ideal voltage wrt SOC\n",
    "                 socmin=0., socmax=1.):\n",
    "        self.capacity, self.rint, self.vfull = float(capacity), float(rint), float(vfull)\n",
    "        self.dVint, self.socmin, self.socmax = float(dVint), float(socmin), float(socmax)\n",
    "    \n",
    "    def vint(self, capacity):\n",
    "        return self.vfull - self.dVint * (self.capacity - capacity)\n",
    "    \n",
    "    def soc_v(self, v, i=0):\n",
    "        # i should be positive for charging, negative for discharging\n",
    "        vint = v - i * self.rint\n",
    "        return self.capacity - (self.vfull - vint) / self.dVint\n",
    "    \n",
    "    def soc_frac(self, frac):\n",
    "        return self.capacity * frac\n",
    "    \n",
    "    def vmin(self):\n",
    "        return self.vint(self.soc_frac(self.socmin))\n",
    "    def vmax(self):\n",
    "        return self.vint(self.soc_frac(self.socmax))\n",
    "\n",
    "# A simplistic model of the NCR18650B battery cell\n",
    "ncr = Batt(3.2, 0.122, 4.2, 0.261, 0.15, 0.9)"
   ]
  },
  {
   "cell_type": "code",
   "execution_count": 3,
   "metadata": {},
   "outputs": [],
   "source": [
    "# Some requirements\n",
    "Vrail_min, Vrail_max = 7.5, 15. #  [V] main rail min/max, set by\n",
    "                                # downstream device limits\n",
    "E_stored = 50 #  [Wh], the max energy we'll need out of the battery\n",
    "              # going from full to empty (in between charging opportunities)\n",
    "npv_tot = 24  # total number of solar cells we can connect in ser/par as needed\n",
    "\n",
    "# Some details of the power system design\n",
    "Vdrop = 0.25 # [V] drop between the PV array and battery (dominated by diode?)\n",
    "Pload = 3.0 # [W] constant power load on the bus behind the battery\n",
    "Iload = 0.3 # [A] constant current load (ind. of but in parallel with power load)\n",
    "Ichrg_min = 0.1 # [A] minimum current to be considered 'charging' a battery\n",
    "mppt_eff = 0.9 # accounting for losses in this MPPT"
   ]
  },
  {
   "cell_type": "code",
   "execution_count": 4,
   "metadata": {},
   "outputs": [
    {
     "name": "stdout",
     "output_type": "stream",
     "text": [
      "Battery Sizing\n",
      "--------------\n",
      "3 cells in series: 27.38 Wh useable per string (9.13 Wh per cell)\n",
      "4 cells in series: 14.42 Wh useable per string (3.61 Wh per cell)\n",
      "2 cells in series: 11.05 Wh useable per string (5.52 Wh per cell)\n",
      "==> 3s2p pattery pack for a total available capacity of 54.77 Wh.\n",
      "\n"
     ]
    }
   ],
   "source": [
    "# Let's spec out a battery pack!\n",
    "\n",
    "# what Nseries are applicable?\n",
    "nsmin = math.ceil(Vrail_min / ncr.vmax())\n",
    "nsmax = math.floor(Vrail_max / ncr.vmin())\n",
    "\n",
    "def Wh_for(nseries):\n",
    "    vmin = max(Vrail_min, nseries * ncr.vmin())\n",
    "    vmax = min(Vrail_max, nseries * ncr.vmax())\n",
    "    Ah_empty = ncr.soc_v(vmin / nseries)\n",
    "    Ah_full =  ncr.soc_v(vmax / nseries)\n",
    "    return (Ah_full - Ah_empty) * (vmin + vmax) / 2\n",
    "\n",
    "ser_batts = [(n, Wh_for(n)) for n in range(nsmin, nsmax + 1)]\n",
    "ser_batts.sort(key=lambda b: b[1], reverse=True)\n",
    "\n",
    "print('Battery Sizing')\n",
    "print('--------------')\n",
    "for n, wh in ser_batts:\n",
    "    print('{} cells in series: {:.2f} Wh useable per string'.format(n, wh),\n",
    "          '({:.2f} Wh per cell)'.format(wh / n))\n",
    "nbatt_ser, wh_cell = ser_batts[0][0], ser_batts[0][1] / ser_batts[0][0]\n",
    "\n",
    "nbatt_par = math.ceil(E_stored / nbatt_ser / wh_cell)\n",
    "print('==> {}s{}p pattery pack'.format(nbatt_ser, nbatt_par),\n",
    "      'for a total available capacity of',\n",
    "      '{:.2f} Wh.\\n'.format((nbatt_ser * nbatt_par) * wh_cell))"
   ]
  },
  {
   "cell_type": "code",
   "execution_count": 5,
   "metadata": {},
   "outputs": [
    {
     "name": "stdout",
     "output_type": "stream",
     "text": [
      "6s4p PV array: 6h25m 1.51A excess at end of charge\n",
      "5s4p PV array: 6h40m 1.30A excess at end of charge\n",
      "8s3p PV array: 9h44m 1.01A excess at end of charge\n",
      "7s3p PV array: 9h45m 1.00A excess at end of charge\n",
      "11s2p PV array: 20h19m 0.49A excess at end of charge\n",
      "mppt: 5h48m 2.05A excess at end of charge\n"
     ]
    }
   ],
   "source": [
    "#  Okay, let's see what options for solar array configuration could \n",
    "# charge such a battery pack.\n",
    "\n",
    "vbattmin = max(Vrail_min, nbatt_ser * ncr.vmin()) / nbatt_ser\n",
    "vbattmax = min(Vrail_max, nbatt_ser * ncr.vmax()) / nbatt_ser\n",
    "vpv_high = vbattmax * nbatt_ser + Vdrop\n",
    "iload_high = Iload + Pload / (vbattmax * nbatt_ser)\n",
    "\n",
    "# figure out how few parallel strings of pv cells could in theory charge the batteries\n",
    "npv_parmin = math.ceil((iload_high + Ichrg_min * nbatt_par) / pv['aout'][0])\n",
    "#  what is the current produced by different numbers of cells in series,\n",
    "# when the string is at the rail maximum?\n",
    "currents = [(n, current_at(vpv_high / n, pv)) for n in range(1, npv_tot // npv_parmin)]\n",
    "# reduce down to the ones that can charge batteries up to that point\n",
    "pv_ser_options = [n for n,c in currents if c >= (iload_high + Ichrg_min * nbatt_par) / npv_parmin]\n",
    "\n",
    "# let's do a numerical integration to see how charging works out\n",
    "def charge_an(battery, batt_ser, i_pv, capstart, capend, batt_par=1, tstep=0.01):\n",
    "    t, cap, hist = 0, capstart, [capstart]\n",
    "    while cap < capend:\n",
    "        vbatt = ncr.vint(cap) * batt_ser\n",
    "        Ipv = i_pv(vbatt + Vdrop)\n",
    "        Ichrg = (Ipv - Iload - Pload/vbatt) / batt_par\n",
    "        if Ichrg < 0:\n",
    "            raise Exception('power negative at t={:.1f}m'.format(t * 60))\n",
    "        t += tstep\n",
    "        cap += Ichrg / batt_par * tstep\n",
    "        hist.append(cap)\n",
    "    return hist\n",
    "\n",
    "pv_options = []\n",
    "for n in pv_ser_options:\n",
    "    npv_par = npv_tot // n\n",
    "    try:\n",
    "        pv_options.append((n, npv_par,\n",
    "                           charge_an(ncr, nbatt_ser, lambda v: current_at(v / n, pv) * npv_par,\n",
    "                                     ncr.soc_v(vbattmin), ncr.soc_v(vbattmax), nbatt_par)\n",
    "                           ))\n",
    "    except:\n",
    "        # this configuration was power negative at some point\n",
    "        pass\n",
    "\n",
    "# sort by charge time\n",
    "pv_options.sort(key=lambda pv: len(pv[2]))\n",
    "for ns, np, charge in pv_options[:5]:\n",
    "    tcharge = len(charge)\n",
    "    msg = '{}s{}p PV array: {}h{}m {:.2f}A excess at end of charge'\n",
    "    print(msg.format(ns, np, tcharge // 100, int((tcharge % 100) * 0.6),\n",
    "                     current_at(vpv_high / ns, pv) * np - iload_high))\n",
    "\n",
    "#  for good measure, let's compare an MPPT that uses all the cells. (The\n",
    "# actual configuration isn't important, because so long as it's an NsMp\n",
    "# kind of deal and isothermal, everything will be at its MPP)\n",
    "mppt_i = lambda v: pv['pout'][pv['mpp']] * npv_tot * mppt_eff / v\n",
    "tmppt = charge_an(ncr, nbatt_ser, mppt_i, ncr.soc_v(vbattmin),\n",
    "                  ncr.soc_v(vbattmax), nbatt_par)\n",
    "print('mppt: {}h{}m {:.2f}A excess at end of charge'.format(len(tmppt) // 100,\n",
    "                                                            int((len(tmppt) % 100) * 0.6),\n",
    "                                                            mppt_i(vpv_high)))"
   ]
  },
  {
   "cell_type": "code",
   "execution_count": 6,
   "metadata": {},
   "outputs": [
    {
     "data": {
      "image/png": "[encoded data removed]",
      "text/plain": [
       "<Figure size 432x288 with 1 Axes>"
      ]
     },
     "metadata": {
      "needs_background": "light"
     },
     "output_type": "display_data"
    }
   ],
   "source": [
    "# for fun, let's plot the charge curves.\n",
    "\n",
    "tfast = charge_an(ncr, nbatt_ser, lambda v: current_at(v/6, pv) * 4, ncr.soc_v(vbattmin),\n",
    "                  ncr.soc_v(vbattmax), nbatt_par)\n",
    "tslow = charge_an(ncr, nbatt_ser, lambda v: current_at(v/8, pv) * 3, ncr.soc_v(vbattmin),\n",
    "                  ncr.soc_v(vbattmax), nbatt_par)\n",
    "plt.plot([i * 0.01 for i in range(len(tfast))], tfast, label='6s4p shunt')\n",
    "plt.plot([i * 0.01 for i in range(len(tslow))], tslow, label='8s3p shunt')\n",
    "plt.plot([i * 0.01 for i in range(len(tmppt))], tmppt, label='mppt')\n",
    "plt.xlabel('Time [hrs]')\n",
    "plt.ylabel('Single-cell SOC [Ah]')\n",
    "plt.legend()\n",
    "plt.show()"
   ]
  },
  {
   "cell_type": "code",
   "execution_count": 7,
   "metadata": {},
   "outputs": [
    {
     "name": "stdout",
     "output_type": "stream",
     "text": [
      "5s5p PV array: 4h57m 1.77A excess at end of charge\n"
     ]
    }
   ],
   "source": [
    "#  interestingly, 5s4p is pretty close to a 90% efficient MPPT with 24\n",
    "# PV cells in charge time, even though it only has 20 cells. What if we\n",
    "# could squeeze in one more cell than the 24, to have a 5s5p array?\n",
    "ser, par = 5,5\n",
    "tcharge = len(charge_an(ncr, nbatt_ser, lambda v: current_at(v / ser, pv) * par,\n",
    "                        ncr.soc_v(vbattmin), ncr.soc_v(vbattmax), nbatt_par))\n",
    "        \n",
    "msg = '{}s{}p PV array: {}h{}m {:.2f}A excess at end of charge'\n",
    "print(msg.format(ser, par, tcharge // 100, int((tcharge % 100) * 0.6),\n",
    "                 current_at(vpv_high / ser, pv) * par - iload_high))"
   ]
  }
 ],
 "metadata": {
  "kernelspec": {
   "display_name": "Python 3",
   "language": "python",
   "name": "python3"
  },
  "language_info": {
   "codemirror_mode": {
    "name": "ipython",
    "version": 3
   },
   "file_extension": ".py",
   "mimetype": "text/x-python",
   "name": "python",
   "nbconvert_exporter": "python",
   "pygments_lexer": "ipython3",
   "version": "3.7.3"
  }
 },
 "nbformat": 4,
 "nbformat_minor": 2
}
